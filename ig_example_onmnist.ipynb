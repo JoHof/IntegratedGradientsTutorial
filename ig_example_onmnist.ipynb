{
 "cells": [
  {
   "cell_type": "markdown",
   "metadata": {},
   "source": [
    "## Basic example of how integrated gradients work\n",
    "Johannes Hofmanninger j.hofmanninger@gmail.com und Philipp Seeböck"
   ]
  },
  {
   "cell_type": "code",
   "execution_count": 2,
   "metadata": {},
   "outputs": [],
   "source": [
    "import torch\n",
    "import torch.nn as nn\n",
    "import torch.nn.functional as F\n",
    "import torch.optim as optim\n",
    "from torch.autograd import Variable\n",
    "from torchvision import datasets, transforms\n",
    "import matplotlib.pyplot as plt \n",
    "import numpy as np"
   ]
  },
  {
   "cell_type": "markdown",
   "metadata": {},
   "source": [
    "### We need a network\n",
    "Here we define a simple neural network architecture that classifies MNIST digits  \n",
    "...here, we use https://github.com/pytorch/examples/tree/master/mnist"
   ]
  },
  {
   "cell_type": "code",
   "execution_count": 3,
   "metadata": {},
   "outputs": [],
   "source": [
    "class Net(nn.Module):\n",
    "    def __init__(self):\n",
    "        super(Net, self).__init__()\n",
    "        self.conv1 = nn.Conv2d(1, 20, 5, 1)\n",
    "        self.conv2 = nn.Conv2d(20, 50, 5, 1)\n",
    "        self.fc1 = nn.Linear(4*4*50, 500)\n",
    "        self.fc2 = nn.Linear(500, 10)\n",
    "\n",
    "    def forward(self, x):\n",
    "        x = F.relu(self.conv1(x))\n",
    "        x = F.max_pool2d(x, 2, 2)\n",
    "        x = F.relu(self.conv2(x))\n",
    "        x = F.max_pool2d(x, 2, 2)\n",
    "        x = x.view(-1, 4*4*50)\n",
    "        x = F.relu(self.fc1(x))\n",
    "        x = self.fc2(x)\n",
    "        return F.log_softmax(x, dim=1)\n",
    "    \n",
    "def train(args, model, device, train_loader, optimizer, epoch):\n",
    "    model.train()\n",
    "    for batch_idx, (data, target) in enumerate(train_loader):\n",
    "        data, target = data.to(device), target.to(device)\n",
    "        optimizer.zero_grad()\n",
    "        output = model(data)\n",
    "        loss = F.nll_loss(output, target)\n",
    "        loss.backward()\n",
    "        optimizer.step()\n",
    "        if batch_idx % args['log_interval'] == 0:\n",
    "            print('\\rTrain Epoch: {} [{}/{} ({:.0f}%)]\\tLoss: {:.6f}'.format(\n",
    "                epoch, batch_idx * len(data), len(train_loader.dataset),\n",
    "                100. * batch_idx / len(train_loader), loss.item()), end='')\n",
    "            \n",
    "def test(args, model, device, test_loader):\n",
    "    model.eval()\n",
    "    test_loss = 0\n",
    "    correct = 0\n",
    "    with torch.no_grad():\n",
    "        for data, target in test_loader:\n",
    "            data, target = data.to(device), target.to(device)\n",
    "            output = model(data)\n",
    "            test_loss += F.nll_loss(output, target, reduction='sum').item() # sum up batch loss\n",
    "            pred = output.argmax(dim=1, keepdim=True) # get the index of the max log-probability\n",
    "            correct += pred.eq(target.view_as(pred)).sum().item()\n",
    "\n",
    "    test_loss /= len(test_loader.dataset)\n",
    "\n",
    "    print('\\rTest set: Average loss: {:.4f}, Accuracy: {}/{} ({:.0f}%)\\n'.format(\n",
    "        test_loss, correct, len(test_loader.dataset),\n",
    "        100. * correct / len(test_loader.dataset)), end='')"
   ]
  },
  {
   "cell_type": "markdown",
   "metadata": {},
   "source": [
    "... now we train the network"
   ]
  },
  {
   "cell_type": "code",
   "execution_count": 4,
   "metadata": {},
   "outputs": [
    {
     "name": "stdout",
     "output_type": "stream",
     "text": [
      "Test set: Average loss: 0.3953, Accuracy: 8898/10000 (89%)\n",
      "Test set: Average loss: 0.2403, Accuracy: 9294/10000 (93%)\n",
      "Test set: Average loss: 0.1759, Accuracy: 9499/10000 (95%)\n",
      "Test set: Average loss: 0.1389, Accuracy: 9605/10000 (96%)\n",
      "Test set: Average loss: 0.1209, Accuracy: 9643/10000 (96%)\n",
      "Test set: Average loss: 0.1058, Accuracy: 9680/10000 (97%)\n",
      "Test set: Average loss: 0.0908, Accuracy: 9723/10000 (97%)\n",
      "Test set: Average loss: 0.0873, Accuracy: 9737/10000 (97%)\n",
      "Test set: Average loss: 0.0744, Accuracy: 9773/10000 (98%)\n",
      "Test set: Average loss: 0.0704, Accuracy: 9791/10000 (98%)\n"
     ]
    }
   ],
   "source": [
    "args = {}\n",
    "args['log_interval'] = 100\n",
    "args['batch_size'] = 500\n",
    "args['test_batch_size'] = 500\n",
    "args['lr'] = 0.01\n",
    "args['momentum'] = 0.5\n",
    "args['epochs'] = 10\n",
    "\n",
    "use_cuda = torch.cuda.is_available()\n",
    "kwargs = {'num_workers': 1, 'pin_memory': True} if use_cuda else {}\n",
    "device = torch.device(\"cuda\" if use_cuda else \"cpu\")\n",
    "\n",
    "\n",
    "train_loader = torch.utils.data.DataLoader(\n",
    "    datasets.MNIST('/tmp/data', train=True, download=True,\n",
    "                   transform=transforms.Compose([\n",
    "                       transforms.ToTensor(),\n",
    "                       transforms.Normalize((0.1307,), (0.3081,))\n",
    "                   ])),\n",
    "    batch_size=args['batch_size'], shuffle=True, **kwargs)\n",
    "\n",
    "test_loader = torch.utils.data.DataLoader(\n",
    "    datasets.MNIST('/tmp/data', train=False, transform=transforms.Compose([\n",
    "                       transforms.ToTensor(),\n",
    "                       transforms.Normalize((0.1307,), (0.3081,))\n",
    "                   ])),\n",
    "    batch_size=args['test_batch_size'], shuffle=True, **kwargs)\n",
    "\n",
    "\n",
    "model = Net().to(device)\n",
    "optimizer = optim.SGD(model.parameters(), lr=args['lr'], momentum=args['momentum'])\n",
    "\n",
    "for epoch in range(1, args['epochs'] + 1):\n",
    "    train(args, model, device, train_loader, optimizer, epoch)\n",
    "    test(args, model, device, test_loader)"
   ]
  },
  {
   "cell_type": "code",
   "execution_count": 5,
   "metadata": {},
   "outputs": [],
   "source": [
    "# loading the test set\n",
    "ds = datasets.MNIST('/tmp/data', train=False, transform=transforms.Compose([\n",
    "                       transforms.ToTensor(),\n",
    "                       transforms.Normalize((0.1307,), (0.3081,))\n",
    "                   ]))"
   ]
  },
  {
   "cell_type": "markdown",
   "metadata": {},
   "source": [
    "lets define an image for which we will calculate the integrated gradients"
   ]
  },
  {
   "cell_type": "code",
   "execution_count": 6,
   "metadata": {},
   "outputs": [],
   "source": [
    "# we simply take image 0\n",
    "testimg = ds[0][0]\n",
    "targeti = ds[0][1]\n",
    "target = torch.Tensor([ds[0][1]]).long()"
   ]
  },
  {
   "cell_type": "code",
   "execution_count": 7,
   "metadata": {},
   "outputs": [
    {
     "data": {
      "text/plain": [
       "<matplotlib.image.AxesImage at 0x7fd333e9ce10>"
      ]
     },
     "execution_count": 7,
     "metadata": {},
     "output_type": "execute_result"
    },
    {
     "data": {
      "image/png": "[encoded data removed]",
      "text/plain": [
       "<Figure size 432x288 with 1 Axes>"
      ]
     },
     "metadata": {
      "needs_background": "light"
     },
     "output_type": "display_data"
    }
   ],
   "source": [
    "plt.imshow(testimg[0])"
   ]
  },
  {
   "cell_type": "markdown",
   "metadata": {},
   "source": [
    "here we create the fading examples, from all zero to the final image"
   ]
  },
  {
   "cell_type": "code",
   "execution_count": 8,
   "metadata": {},
   "outputs": [],
   "source": [
    "steps = 20\n",
    "testimgnp  = testimg.detach().cpu().numpy()\n",
    "baseline = np.ones(testimgnp.shape)*-0.4242 # -0.4242 is the rescaled zero value\n",
    "# all the fading images from all zero to the target image are generated\n",
    "scaled_inputs = np.asarray([baseline + (float(i)/steps)*(testimgnp-baseline) for i in range(0, steps+1)]) \n",
    "\n",
    "# note, that you can also start from a randomly initilized baseline"
   ]
  },
  {
   "cell_type": "markdown",
   "metadata": {},
   "source": [
    "now we can perform the forward passes"
   ]
  },
  {
   "cell_type": "code",
   "execution_count": 9,
   "metadata": {},
   "outputs": [],
   "source": [
    "model.eval()\n",
    "test_loss = 0\n",
    "correct = 0\n",
    "sm = torch.nn.Softmax(dim=1) # according to the authors we should apply the gradient calculation on a softmax layer\n",
    "\n",
    "# Variable generates a autograd variable\n",
    "data, target = Variable(torch.Tensor(scaled_inputs),requires_grad=True).to(device), target.to(device)\n",
    "output = model(data) # forward pass\n",
    "pred = output.argmax(dim=1, keepdim=True) # get the index of the max log-probability\n",
    "output_sc = sm(output)"
   ]
  },
  {
   "cell_type": "code",
   "execution_count": 10,
   "metadata": {},
   "outputs": [],
   "source": [
    "targeti = pred[-1].item() # the node for which we calculate the gradient\n",
    "# autograd.grad needs a sequence of tensors to calculate independently\n",
    "# here we get 20 scalars (the probabilities of the target class) tensors (one for each sample in the batch of 20 samplesfading images)\n",
    "xtens = [output_sc[i][targeti] for i in range(len(output_sc))] # xtens is 20x1 vector holding tensors with the probabilities\n",
    "# calculate sum of derivatives with respect to data\n",
    "grads = torch.autograd.grad(xtens,data) # grads is a list of 20x1x28x28 with the derivatives\n",
    "gradsnp = grads[0].detach().cpu().numpy()[:-1]"
   ]
  },
  {
   "cell_type": "code",
   "execution_count": 11,
   "metadata": {},
   "outputs": [],
   "source": [
    "avg_grads = np.sum(gradsnp, axis=0) # in the reference implementation its the average of gradients\n",
    "integrated_gradients = avg_grads\n",
    "# in the reference implementation, the integrated gradients are masked with the difference between the baseline and the input image\n",
    "# integrated_gradients = (testimgnp-baseline)*avg_grads "
   ]
  },
  {
   "cell_type": "code",
   "execution_count": 12,
   "metadata": {},
   "outputs": [
    {
     "data": {
      "text/plain": [
       "<matplotlib.image.AxesImage at 0x7fd333ee8a90>"
      ]
     },
     "execution_count": 12,
     "metadata": {},
     "output_type": "execute_result"
    },
    {
     "data": {
      "image/png": "[encoded data removed]",
      "text/plain": [
       "<Figure size 432x288 with 3 Axes>"
      ]
     },
     "metadata": {
      "needs_background": "light"
     },
     "output_type": "display_data"
    }
   ],
   "source": [
    "plt.rcParams['image.cmap'] = 'viridis'\n",
    "plt.subplot(1,3,1)\n",
    "plt.imshow(testimgnp[0])\n",
    "plt.subplot(1,3,2)\n",
    "plt.imshow(integrated_gradients[0])\n",
    "plt.subplot(1,3,3)\n",
    "plt.imshow(grads[0].detach().cpu().numpy()[-1][0])"
   ]
  },
  {
   "cell_type": "code",
   "execution_count": 13,
   "metadata": {},
   "outputs": [
    {
     "data": {
      "image/png": "[encoded data removed]",
      "text/plain": [
       "<Figure size 432x288 with 1 Axes>"
      ]
     },
     "metadata": {
      "needs_background": "light"
     },
     "output_type": "display_data"
    }
   ],
   "source": [
    "plt.hist(integrated_gradients.flatten(),bins=20);"
   ]
  }
 ],
 "metadata": {
  "kernelspec": {
   "display_name": "Candid",
   "language": "python",
   "name": "candid"
  },
  "language_info": {
   "codemirror_mode": {
    "name": "ipython",
    "version": 3
   },
   "file_extension": ".py",
   "mimetype": "text/x-python",
   "name": "python",
   "nbconvert_exporter": "python",
   "pygments_lexer": "ipython3",
   "version": "3.6.7"
  }
 },
 "nbformat": 4,
 "nbformat_minor": 2
}
